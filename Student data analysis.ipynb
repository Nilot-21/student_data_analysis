{
 "cells": [
  {
   "cell_type": "code",
   "execution_count": 1,
   "id": "402430a6-93f4-4506-8601-e406d1f94a44",
   "metadata": {},
   "outputs": [
    {
     "name": "stdout",
     "output_type": "stream",
     "text": [
      "Requirement already satisfied: pandas in c:\\users\\appu\\appdata\\local\\programs\\python\\python312\\lib\\site-packages (2.2.2)Note: you may need to restart the kernel to use updated packages.\n",
      "\n",
      "Requirement already satisfied: numpy>=1.26.0 in c:\\users\\appu\\appdata\\local\\programs\\python\\python312\\lib\\site-packages (from pandas) (1.26.4)\n",
      "Requirement already satisfied: python-dateutil>=2.8.2 in c:\\users\\appu\\appdata\\local\\programs\\python\\python312\\lib\\site-packages (from pandas) (2.9.0.post0)\n",
      "Requirement already satisfied: pytz>=2020.1 in c:\\users\\appu\\appdata\\local\\programs\\python\\python312\\lib\\site-packages (from pandas) (2024.1)\n",
      "Requirement already satisfied: tzdata>=2022.7 in c:\\users\\appu\\appdata\\local\\programs\\python\\python312\\lib\\site-packages (from pandas) (2024.1)\n",
      "Requirement already satisfied: six>=1.5 in c:\\users\\appu\\appdata\\local\\programs\\python\\python312\\lib\\site-packages (from python-dateutil>=2.8.2->pandas) (1.16.0)\n"
     ]
    }
   ],
   "source": [
    "pip install pandas\n"
   ]
  },
  {
   "cell_type": "code",
   "execution_count": 2,
   "id": "48ef526e-8217-459b-a251-c9f82a085593",
   "metadata": {},
   "outputs": [
    {
     "name": "stdout",
     "output_type": "stream",
     "text": [
      "Requirement already satisfied: numpy in c:\\users\\appu\\appdata\\local\\programs\\python\\python312\\lib\\site-packages (1.26.4)\n",
      "Note: you may need to restart the kernel to use updated packages.\n"
     ]
    }
   ],
   "source": [
    "pip install numpy\n"
   ]
  },
  {
   "cell_type": "code",
   "execution_count": 3,
   "id": "95077c2c-733b-4caa-9dc7-8aa47ea97a87",
   "metadata": {},
   "outputs": [
    {
     "name": "stdout",
     "output_type": "stream",
     "text": [
      "Requirement already satisfied: matplotlib in c:\\users\\appu\\appdata\\local\\programs\\python\\python312\\lib\\site-packages (3.9.1)\n",
      "Requirement already satisfied: contourpy>=1.0.1 in c:\\users\\appu\\appdata\\local\\programs\\python\\python312\\lib\\site-packages (from matplotlib) (1.2.1)\n",
      "Requirement already satisfied: cycler>=0.10 in c:\\users\\appu\\appdata\\local\\programs\\python\\python312\\lib\\site-packages (from matplotlib) (0.12.1)\n",
      "Requirement already satisfied: fonttools>=4.22.0 in c:\\users\\appu\\appdata\\local\\programs\\python\\python312\\lib\\site-packages (from matplotlib) (4.53.1)\n",
      "Requirement already satisfied: kiwisolver>=1.3.1 in c:\\users\\appu\\appdata\\local\\programs\\python\\python312\\lib\\site-packages (from matplotlib) (1.4.5)\n",
      "Requirement already satisfied: numpy>=1.23 in c:\\users\\appu\\appdata\\local\\programs\\python\\python312\\lib\\site-packages (from matplotlib) (1.26.4)\n",
      "Requirement already satisfied: packaging>=20.0 in c:\\users\\appu\\appdata\\local\\programs\\python\\python312\\lib\\site-packages (from matplotlib) (24.1)\n",
      "Requirement already satisfied: pillow>=8 in c:\\users\\appu\\appdata\\local\\programs\\python\\python312\\lib\\site-packages (from matplotlib) (10.4.0)\n",
      "Requirement already satisfied: pyparsing>=2.3.1 in c:\\users\\appu\\appdata\\local\\programs\\python\\python312\\lib\\site-packages (from matplotlib) (3.1.2)\n",
      "Requirement already satisfied: python-dateutil>=2.7 in c:\\users\\appu\\appdata\\local\\programs\\python\\python312\\lib\\site-packages (from matplotlib) (2.9.0.post0)\n",
      "Requirement already satisfied: six>=1.5 in c:\\users\\appu\\appdata\\local\\programs\\python\\python312\\lib\\site-packages (from python-dateutil>=2.7->matplotlib) (1.16.0)\n",
      "Note: you may need to restart the kernel to use updated packages.\n"
     ]
    }
   ],
   "source": [
    "pip install matplotlib\n"
   ]
  },
  {
   "cell_type": "code",
   "execution_count": 4,
   "id": "3118f88f-fade-4b91-95d5-1220fa753817",
   "metadata": {},
   "outputs": [
    {
     "name": "stdout",
     "output_type": "stream",
     "text": [
      "Requirement already satisfied: seaborn in c:\\users\\appu\\appdata\\local\\programs\\python\\python312\\lib\\site-packages (0.13.2)Note: you may need to restart the kernel to use updated packages.\n",
      "\n",
      "Requirement already satisfied: numpy!=1.24.0,>=1.20 in c:\\users\\appu\\appdata\\local\\programs\\python\\python312\\lib\\site-packages (from seaborn) (1.26.4)\n",
      "Requirement already satisfied: pandas>=1.2 in c:\\users\\appu\\appdata\\local\\programs\\python\\python312\\lib\\site-packages (from seaborn) (2.2.2)\n",
      "Requirement already satisfied: matplotlib!=3.6.1,>=3.4 in c:\\users\\appu\\appdata\\local\\programs\\python\\python312\\lib\\site-packages (from seaborn) (3.9.1)\n",
      "Requirement already satisfied: contourpy>=1.0.1 in c:\\users\\appu\\appdata\\local\\programs\\python\\python312\\lib\\site-packages (from matplotlib!=3.6.1,>=3.4->seaborn) (1.2.1)\n",
      "Requirement already satisfied: cycler>=0.10 in c:\\users\\appu\\appdata\\local\\programs\\python\\python312\\lib\\site-packages (from matplotlib!=3.6.1,>=3.4->seaborn) (0.12.1)\n",
      "Requirement already satisfied: fonttools>=4.22.0 in c:\\users\\appu\\appdata\\local\\programs\\python\\python312\\lib\\site-packages (from matplotlib!=3.6.1,>=3.4->seaborn) (4.53.1)\n",
      "Requirement already satisfied: kiwisolver>=1.3.1 in c:\\users\\appu\\appdata\\local\\programs\\python\\python312\\lib\\site-packages (from matplotlib!=3.6.1,>=3.4->seaborn) (1.4.5)\n",
      "Requirement already satisfied: packaging>=20.0 in c:\\users\\appu\\appdata\\local\\programs\\python\\python312\\lib\\site-packages (from matplotlib!=3.6.1,>=3.4->seaborn) (24.1)\n",
      "Requirement already satisfied: pillow>=8 in c:\\users\\appu\\appdata\\local\\programs\\python\\python312\\lib\\site-packages (from matplotlib!=3.6.1,>=3.4->seaborn) (10.4.0)\n",
      "Requirement already satisfied: pyparsing>=2.3.1 in c:\\users\\appu\\appdata\\local\\programs\\python\\python312\\lib\\site-packages (from matplotlib!=3.6.1,>=3.4->seaborn) (3.1.2)\n",
      "Requirement already satisfied: python-dateutil>=2.7 in c:\\users\\appu\\appdata\\local\\programs\\python\\python312\\lib\\site-packages (from matplotlib!=3.6.1,>=3.4->seaborn) (2.9.0.post0)\n",
      "Requirement already satisfied: pytz>=2020.1 in c:\\users\\appu\\appdata\\local\\programs\\python\\python312\\lib\\site-packages (from pandas>=1.2->seaborn) (2024.1)\n",
      "Requirement already satisfied: tzdata>=2022.7 in c:\\users\\appu\\appdata\\local\\programs\\python\\python312\\lib\\site-packages (from pandas>=1.2->seaborn) (2024.1)\n",
      "Requirement already satisfied: six>=1.5 in c:\\users\\appu\\appdata\\local\\programs\\python\\python312\\lib\\site-packages (from python-dateutil>=2.7->matplotlib!=3.6.1,>=3.4->seaborn) (1.16.0)\n"
     ]
    }
   ],
   "source": [
    "pip install seaborn"
   ]
  },
  {
   "cell_type": "code",
   "execution_count": 14,
   "id": "2f92f5f1-2384-4d5c-8a47-c23b86e5efe8",
   "metadata": {},
   "outputs": [
    {
     "name": "stdout",
     "output_type": "stream",
     "text": [
      "   Gender Ethnic group    ParentEducation wklystudeyhour  Mathscore  \\\n",
      "0  female          Nan  Bachelor's degree             <5         71   \n",
      "1  female      group c    Master's degree             <5         69   \n",
      "2  female      group b                PHD             <5         87   \n",
      "3    male      group a  Bachelor's degree             <5         77   \n",
      "4    male      group c  Bachelor's degree             <5         78   \n",
      "\n",
      "   Readingscore  writingscore  \n",
      "0            71            74  \n",
      "1            90            88  \n",
      "2            93            91  \n",
      "3            80            90  \n",
      "4            79            89  \n"
     ]
    }
   ],
   "source": [
    "import pandas as pd\n",
    "import numpy as np\n",
    "import matplotlib.pyplot as plt\n",
    "import seaborn as sns\n",
    "\n",
    "df=pd.read_csv(\"student_scores1.csv\")\n",
    "print(df.head())\n"
   ]
  },
  {
   "cell_type": "code",
   "execution_count": 7,
   "id": "7b01770a-92ad-42d2-9152-b04a64637d4d",
   "metadata": {},
   "outputs": [
    {
     "name": "stdout",
     "output_type": "stream",
     "text": [
      "   Gender Ethnic group wklystudeyhour  Mathscore  Readingscore  writingscore\n",
      "0  female          Nan             <5         71            71            74\n",
      "1  female      group c             <5         69            90            88\n",
      "2  female      group b             <5         87            93            91\n",
      "3    male      group a             <5         77            80            90\n",
      "4    male      group c             <5         78            79            89\n"
     ]
    }
   ],
   "source": [
    "print(df.head())"
   ]
  },
  {
   "cell_type": "code",
   "execution_count": 8,
   "id": "c97ecd7a-0726-4827-a482-ddbda078801f",
   "metadata": {},
   "outputs": [],
   "source": [
    "df.at[2,\"wklystudeyhour\"]='5-10'"
   ]
  },
  {
   "cell_type": "markdown",
   "id": "cbf419ec-1ffb-4122-9ec6-985f7aaae29a",
   "metadata": {},
   "source": [
    "Gender Distribution"
   ]
  },
  {
   "cell_type": "code",
   "execution_count": 9,
   "id": "d3c79247-a580-452e-bfa3-b1c066d048aa",
   "metadata": {},
   "outputs": [
    {
     "name": "stdout",
     "output_type": "stream",
     "text": [
      "   Gender Ethnic group wklystudeyhour  Mathscore  Readingscore  writingscore\n",
      "0  female          Nan             <5         71            71            74\n",
      "1  female      group c             <5         69            90            88\n",
      "2  female      group b           5-10         87            93            91\n",
      "3    male      group a             <5         77            80            90\n",
      "4    male      group c             <5         78            79            89\n"
     ]
    }
   ],
   "source": [
    "print(df.head())"
   ]
  },
  {
   "cell_type": "code",
   "execution_count": 10,
   "id": "f1fc6a4a-6096-4a53-bc1a-a683ec5e21ca",
   "metadata": {},
   "outputs": [],
   "source": [
    "df.at[3,\"wklystudeyhour\"]='5-10'"
   ]
  },
  {
   "cell_type": "code",
   "execution_count": 23,
   "id": "9e930078-d634-4f25-bd4e-8a8f9d6070ea",
   "metadata": {},
   "outputs": [
    {
     "data": {
      "text/plain": [
       "Text(0.5, 1.0, 'Gender Distribution')"
      ]
     },
     "execution_count": 23,
     "metadata": {},
     "output_type": "execute_result"
    },
    {
     "data": {
      "image/png": "[encoded data removed]",
      "text/plain": [
       "<Figure size 640x480 with 1 Axes>"
      ]
     },
     "metadata": {},
     "output_type": "display_data"
    }
   ],
   "source": [
    "sns.countplot(data=df,x='Gender')\n",
    "plt.title(\"Gender Distribution\")"
   ]
  },
  {
   "cell_type": "code",
   "execution_count": null,
   "id": "8263dbdc-efd9-446c-9ede-de68ed74bfcf",
   "metadata": {},
   "outputs": [],
   "source": [
    "#from the above chart we have analysed that:\n",
    "the number of females in the data is more than the number of males"
   ]
  },
  {
   "cell_type": "code",
   "execution_count": 11,
   "id": "074f32ce-4536-448c-9eb5-fa94a4989f6f",
   "metadata": {},
   "outputs": [
    {
     "name": "stdout",
     "output_type": "stream",
     "text": [
      "   Gender Ethnic group wklystudeyhour  Mathscore  Readingscore  writingscore\n",
      "0  female          Nan             <5         71            71            74\n",
      "1  female      group c             <5         69            90            88\n",
      "2  female      group b           5-10         87            93            91\n",
      "3    male      group a           5-10         77            80            90\n",
      "4    male      group c             <5         78            79            89\n"
     ]
    }
   ],
   "source": [
    "print(df.head())"
   ]
  },
  {
   "cell_type": "code",
   "execution_count": 13,
   "id": "88fd235a-0768-4a7c-93e5-9e393890db66",
   "metadata": {},
   "outputs": [
    {
     "name": "stdout",
     "output_type": "stream",
     "text": [
      "   Gender Ethnic group wklystudeyhour  Mathscore  Readingscore  writingscore\n",
      "0  female          Nan             <5         71            71            74\n",
      "1  female      group c             <5         69            90            88\n",
      "2  female      group b           5-10         87            93            91\n",
      "3    male      group a           5-10         77            80            90\n",
      "4    male      group c             <5         78            79            89\n"
     ]
    }
   ],
   "source": [
    "print(df.head())"
   ]
  },
  {
   "cell_type": "code",
   "execution_count": 15,
   "id": "c4b05419-c68c-42bd-aa6b-caf6323f271d",
   "metadata": {},
   "outputs": [
    {
     "data": {
      "text/html": [
       "<div>\n",
       "<style scoped>\n",
       "    .dataframe tbody tr th:only-of-type {\n",
       "        vertical-align: middle;\n",
       "    }\n",
       "\n",
       "    .dataframe tbody tr th {\n",
       "        vertical-align: top;\n",
       "    }\n",
       "\n",
       "    .dataframe thead th {\n",
       "        text-align: right;\n",
       "    }\n",
       "</style>\n",
       "<table border=\"1\" class=\"dataframe\">\n",
       "  <thead>\n",
       "    <tr style=\"text-align: right;\">\n",
       "      <th></th>\n",
       "      <th>Gender</th>\n",
       "      <th>Ethnic group</th>\n",
       "      <th>ParentEducation</th>\n",
       "      <th>wklystudeyhour</th>\n",
       "      <th>Mathscore</th>\n",
       "      <th>Readingscore</th>\n",
       "      <th>writingscore</th>\n",
       "    </tr>\n",
       "  </thead>\n",
       "  <tbody>\n",
       "    <tr>\n",
       "      <th>0</th>\n",
       "      <td>female</td>\n",
       "      <td>Nan</td>\n",
       "      <td>Bachelor's degree</td>\n",
       "      <td>&lt;5</td>\n",
       "      <td>71</td>\n",
       "      <td>71</td>\n",
       "      <td>74</td>\n",
       "    </tr>\n",
       "    <tr>\n",
       "      <th>1</th>\n",
       "      <td>female</td>\n",
       "      <td>group c</td>\n",
       "      <td>Master's degree</td>\n",
       "      <td>&lt;5</td>\n",
       "      <td>69</td>\n",
       "      <td>90</td>\n",
       "      <td>88</td>\n",
       "    </tr>\n",
       "    <tr>\n",
       "      <th>2</th>\n",
       "      <td>female</td>\n",
       "      <td>group b</td>\n",
       "      <td>PHD</td>\n",
       "      <td>&lt;5</td>\n",
       "      <td>87</td>\n",
       "      <td>93</td>\n",
       "      <td>91</td>\n",
       "    </tr>\n",
       "    <tr>\n",
       "      <th>3</th>\n",
       "      <td>male</td>\n",
       "      <td>group a</td>\n",
       "      <td>Bachelor's degree</td>\n",
       "      <td>&lt;5</td>\n",
       "      <td>77</td>\n",
       "      <td>80</td>\n",
       "      <td>90</td>\n",
       "    </tr>\n",
       "    <tr>\n",
       "      <th>4</th>\n",
       "      <td>male</td>\n",
       "      <td>group c</td>\n",
       "      <td>Bachelor's degree</td>\n",
       "      <td>&lt;5</td>\n",
       "      <td>78</td>\n",
       "      <td>79</td>\n",
       "      <td>89</td>\n",
       "    </tr>\n",
       "  </tbody>\n",
       "</table>\n",
       "</div>"
      ],
      "text/plain": [
       "   Gender Ethnic group    ParentEducation wklystudeyhour  Mathscore  \\\n",
       "0  female          Nan  Bachelor's degree             <5         71   \n",
       "1  female      group c    Master's degree             <5         69   \n",
       "2  female      group b                PHD             <5         87   \n",
       "3    male      group a  Bachelor's degree             <5         77   \n",
       "4    male      group c  Bachelor's degree             <5         78   \n",
       "\n",
       "   Readingscore  writingscore  \n",
       "0            71            74  \n",
       "1            90            88  \n",
       "2            93            91  \n",
       "3            80            90  \n",
       "4            79            89  "
      ]
     },
     "execution_count": 15,
     "metadata": {},
     "output_type": "execute_result"
    }
   ],
   "source": [
    "df.head()"
   ]
  },
  {
   "cell_type": "code",
   "execution_count": 17,
   "id": "4c5e3e6f-7212-4d7a-9d7f-b6bb747c1149",
   "metadata": {},
   "outputs": [
    {
     "name": "stdout",
     "output_type": "stream",
     "text": [
      "                   Mathscore  Readingscore  writingscore\n",
      "ParentEducation                                         \n",
      "Bachelor's degree  75.333333     76.666667     84.333333\n",
      "Master's degree    69.000000     90.000000     88.000000\n",
      "PHD                87.000000     93.000000     91.000000\n"
     ]
    }
   ],
   "source": [
    "gb=df.groupby(\"ParentEducation\").agg({\"Mathscore\":\"mean\",\"Readingscore\":\"mean\",\"writingscore\":\"mean\"})\n",
    "print(gb)"
   ]
  },
  {
   "cell_type": "code",
   "execution_count": 25,
   "id": "b6f8b1db-d451-4cfd-b4a5-ce027cdc4ba1",
   "metadata": {},
   "outputs": [
    {
     "data": {
      "image/png": "[encoded data removed]",
      "text/plain": [
       "<Figure size 640x480 with 2 Axes>"
      ]
     },
     "metadata": {},
     "output_type": "display_data"
    }
   ],
   "source": [
    "sns.heatmap(gb,annot=True)\n",
    "plt.title(\"Relationship between Parent's education and student's score\")\n",
    "plt.show()"
   ]
  },
  {
   "cell_type": "code",
   "execution_count": null,
   "id": "9e2ac457-47c4-4ef1-988f-640f22cb69ed",
   "metadata": {},
   "outputs": [],
   "source": [
    "#from the above chart we have concluded that the education of the parents have a good impact on scores"
   ]
  },
  {
   "cell_type": "code",
   "execution_count": 27,
   "id": "58cc51a5-679c-40e2-acc4-b57aa0ce1f1e",
   "metadata": {},
   "outputs": [
    {
     "data": {
      "text/html": [
       "<div>\n",
       "<style scoped>\n",
       "    .dataframe tbody tr th:only-of-type {\n",
       "        vertical-align: middle;\n",
       "    }\n",
       "\n",
       "    .dataframe tbody tr th {\n",
       "        vertical-align: top;\n",
       "    }\n",
       "\n",
       "    .dataframe thead th {\n",
       "        text-align: right;\n",
       "    }\n",
       "</style>\n",
       "<table border=\"1\" class=\"dataframe\">\n",
       "  <thead>\n",
       "    <tr style=\"text-align: right;\">\n",
       "      <th></th>\n",
       "      <th>Gender</th>\n",
       "      <th>Ethnic group</th>\n",
       "      <th>ParentEducation</th>\n",
       "      <th>wklystudeyhour</th>\n",
       "      <th>Mathscore</th>\n",
       "      <th>Readingscore</th>\n",
       "      <th>writingscore</th>\n",
       "    </tr>\n",
       "  </thead>\n",
       "  <tbody>\n",
       "    <tr>\n",
       "      <th>0</th>\n",
       "      <td>female</td>\n",
       "      <td>Nan</td>\n",
       "      <td>Bachelor's degree</td>\n",
       "      <td>&lt;5</td>\n",
       "      <td>71</td>\n",
       "      <td>71</td>\n",
       "      <td>74</td>\n",
       "    </tr>\n",
       "    <tr>\n",
       "      <th>1</th>\n",
       "      <td>female</td>\n",
       "      <td>group c</td>\n",
       "      <td>Master's degree</td>\n",
       "      <td>&lt;5</td>\n",
       "      <td>69</td>\n",
       "      <td>90</td>\n",
       "      <td>88</td>\n",
       "    </tr>\n",
       "    <tr>\n",
       "      <th>2</th>\n",
       "      <td>female</td>\n",
       "      <td>group b</td>\n",
       "      <td>PHD</td>\n",
       "      <td>&lt;5</td>\n",
       "      <td>87</td>\n",
       "      <td>93</td>\n",
       "      <td>91</td>\n",
       "    </tr>\n",
       "    <tr>\n",
       "      <th>3</th>\n",
       "      <td>male</td>\n",
       "      <td>group a</td>\n",
       "      <td>Bachelor's degree</td>\n",
       "      <td>&lt;5</td>\n",
       "      <td>77</td>\n",
       "      <td>80</td>\n",
       "      <td>90</td>\n",
       "    </tr>\n",
       "    <tr>\n",
       "      <th>4</th>\n",
       "      <td>male</td>\n",
       "      <td>group c</td>\n",
       "      <td>Bachelor's degree</td>\n",
       "      <td>&lt;5</td>\n",
       "      <td>78</td>\n",
       "      <td>79</td>\n",
       "      <td>89</td>\n",
       "    </tr>\n",
       "  </tbody>\n",
       "</table>\n",
       "</div>"
      ],
      "text/plain": [
       "   Gender Ethnic group    ParentEducation wklystudeyhour  Mathscore  \\\n",
       "0  female          Nan  Bachelor's degree             <5         71   \n",
       "1  female      group c    Master's degree             <5         69   \n",
       "2  female      group b                PHD             <5         87   \n",
       "3    male      group a  Bachelor's degree             <5         77   \n",
       "4    male      group c  Bachelor's degree             <5         78   \n",
       "\n",
       "   Readingscore  writingscore  \n",
       "0            71            74  \n",
       "1            90            88  \n",
       "2            93            91  \n",
       "3            80            90  \n",
       "4            79            89  "
      ]
     },
     "execution_count": 27,
     "metadata": {},
     "output_type": "execute_result"
    }
   ],
   "source": [
    "df.head()"
   ]
  },
  {
   "cell_type": "code",
   "execution_count": 28,
   "id": "6ec3780d-eb9a-4755-a8b1-5e1a8fbe5bbf",
   "metadata": {},
   "outputs": [],
   "source": [
    "df.at[4,\"wklystudeyhour\"]=\"5-10\""
   ]
  },
  {
   "cell_type": "code",
   "execution_count": 29,
   "id": "d4e7ff4d-6d25-4d20-9a5b-647ae85c0b97",
   "metadata": {},
   "outputs": [
    {
     "data": {
      "text/html": [
       "<div>\n",
       "<style scoped>\n",
       "    .dataframe tbody tr th:only-of-type {\n",
       "        vertical-align: middle;\n",
       "    }\n",
       "\n",
       "    .dataframe tbody tr th {\n",
       "        vertical-align: top;\n",
       "    }\n",
       "\n",
       "    .dataframe thead th {\n",
       "        text-align: right;\n",
       "    }\n",
       "</style>\n",
       "<table border=\"1\" class=\"dataframe\">\n",
       "  <thead>\n",
       "    <tr style=\"text-align: right;\">\n",
       "      <th></th>\n",
       "      <th>Gender</th>\n",
       "      <th>Ethnic group</th>\n",
       "      <th>ParentEducation</th>\n",
       "      <th>wklystudeyhour</th>\n",
       "      <th>Mathscore</th>\n",
       "      <th>Readingscore</th>\n",
       "      <th>writingscore</th>\n",
       "    </tr>\n",
       "  </thead>\n",
       "  <tbody>\n",
       "    <tr>\n",
       "      <th>0</th>\n",
       "      <td>female</td>\n",
       "      <td>Nan</td>\n",
       "      <td>Bachelor's degree</td>\n",
       "      <td>&lt;5</td>\n",
       "      <td>71</td>\n",
       "      <td>71</td>\n",
       "      <td>74</td>\n",
       "    </tr>\n",
       "    <tr>\n",
       "      <th>1</th>\n",
       "      <td>female</td>\n",
       "      <td>group c</td>\n",
       "      <td>Master's degree</td>\n",
       "      <td>&lt;5</td>\n",
       "      <td>69</td>\n",
       "      <td>90</td>\n",
       "      <td>88</td>\n",
       "    </tr>\n",
       "    <tr>\n",
       "      <th>2</th>\n",
       "      <td>female</td>\n",
       "      <td>group b</td>\n",
       "      <td>PHD</td>\n",
       "      <td>&lt;5</td>\n",
       "      <td>87</td>\n",
       "      <td>93</td>\n",
       "      <td>91</td>\n",
       "    </tr>\n",
       "    <tr>\n",
       "      <th>3</th>\n",
       "      <td>male</td>\n",
       "      <td>group a</td>\n",
       "      <td>Bachelor's degree</td>\n",
       "      <td>&lt;5</td>\n",
       "      <td>77</td>\n",
       "      <td>80</td>\n",
       "      <td>90</td>\n",
       "    </tr>\n",
       "    <tr>\n",
       "      <th>4</th>\n",
       "      <td>male</td>\n",
       "      <td>group c</td>\n",
       "      <td>Bachelor's degree</td>\n",
       "      <td>5-10</td>\n",
       "      <td>78</td>\n",
       "      <td>79</td>\n",
       "      <td>89</td>\n",
       "    </tr>\n",
       "  </tbody>\n",
       "</table>\n",
       "</div>"
      ],
      "text/plain": [
       "   Gender Ethnic group    ParentEducation wklystudeyhour  Mathscore  \\\n",
       "0  female          Nan  Bachelor's degree             <5         71   \n",
       "1  female      group c    Master's degree             <5         69   \n",
       "2  female      group b                PHD             <5         87   \n",
       "3    male      group a  Bachelor's degree             <5         77   \n",
       "4    male      group c  Bachelor's degree           5-10         78   \n",
       "\n",
       "   Readingscore  writingscore  \n",
       "0            71            74  \n",
       "1            90            88  \n",
       "2            93            91  \n",
       "3            80            90  \n",
       "4            79            89  "
      ]
     },
     "execution_count": 29,
     "metadata": {},
     "output_type": "execute_result"
    }
   ],
   "source": [
    "df.head()"
   ]
  },
  {
   "cell_type": "code",
   "execution_count": 30,
   "id": "f204087a-03f2-4c43-bddd-e0586d101403",
   "metadata": {},
   "outputs": [],
   "source": [
    "df.at[3,\"wklystudeyhour\"]=\"5-10\""
   ]
  },
  {
   "cell_type": "code",
   "execution_count": 31,
   "id": "c6a43dc1-970d-42ea-aa94-399710aedea2",
   "metadata": {},
   "outputs": [
    {
     "data": {
      "text/html": [
       "<div>\n",
       "<style scoped>\n",
       "    .dataframe tbody tr th:only-of-type {\n",
       "        vertical-align: middle;\n",
       "    }\n",
       "\n",
       "    .dataframe tbody tr th {\n",
       "        vertical-align: top;\n",
       "    }\n",
       "\n",
       "    .dataframe thead th {\n",
       "        text-align: right;\n",
       "    }\n",
       "</style>\n",
       "<table border=\"1\" class=\"dataframe\">\n",
       "  <thead>\n",
       "    <tr style=\"text-align: right;\">\n",
       "      <th></th>\n",
       "      <th>Gender</th>\n",
       "      <th>Ethnic group</th>\n",
       "      <th>ParentEducation</th>\n",
       "      <th>wklystudeyhour</th>\n",
       "      <th>Mathscore</th>\n",
       "      <th>Readingscore</th>\n",
       "      <th>writingscore</th>\n",
       "    </tr>\n",
       "  </thead>\n",
       "  <tbody>\n",
       "    <tr>\n",
       "      <th>0</th>\n",
       "      <td>female</td>\n",
       "      <td>Nan</td>\n",
       "      <td>Bachelor's degree</td>\n",
       "      <td>&lt;5</td>\n",
       "      <td>71</td>\n",
       "      <td>71</td>\n",
       "      <td>74</td>\n",
       "    </tr>\n",
       "    <tr>\n",
       "      <th>1</th>\n",
       "      <td>female</td>\n",
       "      <td>group c</td>\n",
       "      <td>Master's degree</td>\n",
       "      <td>&lt;5</td>\n",
       "      <td>69</td>\n",
       "      <td>90</td>\n",
       "      <td>88</td>\n",
       "    </tr>\n",
       "    <tr>\n",
       "      <th>2</th>\n",
       "      <td>female</td>\n",
       "      <td>group b</td>\n",
       "      <td>PHD</td>\n",
       "      <td>&lt;5</td>\n",
       "      <td>87</td>\n",
       "      <td>93</td>\n",
       "      <td>91</td>\n",
       "    </tr>\n",
       "    <tr>\n",
       "      <th>3</th>\n",
       "      <td>male</td>\n",
       "      <td>group a</td>\n",
       "      <td>Bachelor's degree</td>\n",
       "      <td>5-10</td>\n",
       "      <td>77</td>\n",
       "      <td>80</td>\n",
       "      <td>90</td>\n",
       "    </tr>\n",
       "    <tr>\n",
       "      <th>4</th>\n",
       "      <td>male</td>\n",
       "      <td>group c</td>\n",
       "      <td>Bachelor's degree</td>\n",
       "      <td>5-10</td>\n",
       "      <td>78</td>\n",
       "      <td>79</td>\n",
       "      <td>89</td>\n",
       "    </tr>\n",
       "  </tbody>\n",
       "</table>\n",
       "</div>"
      ],
      "text/plain": [
       "   Gender Ethnic group    ParentEducation wklystudeyhour  Mathscore  \\\n",
       "0  female          Nan  Bachelor's degree             <5         71   \n",
       "1  female      group c    Master's degree             <5         69   \n",
       "2  female      group b                PHD             <5         87   \n",
       "3    male      group a  Bachelor's degree           5-10         77   \n",
       "4    male      group c  Bachelor's degree           5-10         78   \n",
       "\n",
       "   Readingscore  writingscore  \n",
       "0            71            74  \n",
       "1            90            88  \n",
       "2            93            91  \n",
       "3            80            90  \n",
       "4            79            89  "
      ]
     },
     "execution_count": 31,
     "metadata": {},
     "output_type": "execute_result"
    }
   ],
   "source": [
    "df.head()"
   ]
  },
  {
   "cell_type": "code",
   "execution_count": 36,
   "id": "4b514eae-c6bc-44ab-8612-f5115cc20548",
   "metadata": {},
   "outputs": [
    {
     "data": {
      "text/plain": [
       "Text(0.5, 1.0, 'relation between the weekly study hours and score')"
      ]
     },
     "execution_count": 36,
     "metadata": {},
     "output_type": "execute_result"
    },
    {
     "data": {
      "image/png": "[encoded data removed]",
      "text/plain": [
       "<Figure size 640x480 with 2 Axes>"
      ]
     },
     "metadata": {},
     "output_type": "display_data"
    }
   ],
   "source": [
    "gd=df.groupby(\"wklystudeyhour\").agg({\"Mathscore\":\"mean\",\"Readingscore\":\"mean\",\"writingscore\":\"mean\"})\n",
    "sns.heatmap(gd,annot=True)\n",
    "plt.title(\"relation between the weekly study hours and score\")"
   ]
  },
  {
   "cell_type": "code",
   "execution_count": null,
   "id": "1bc76af3-84f6-405a-8590-e21adc6bb94c",
   "metadata": {},
   "outputs": [],
   "source": [
    "#from the above chart we have concluded that the more the study hour more marks u achieve"
   ]
  },
  {
   "cell_type": "code",
   "execution_count": 37,
   "id": "dc11c536-a558-435e-8327-7d79c27e4462",
   "metadata": {},
   "outputs": [
    {
     "name": "stdout",
     "output_type": "stream",
     "text": [
      "['Nan' 'group c' 'group b' 'group a']\n"
     ]
    }
   ],
   "source": [
    "print(df[\"Ethnic group\"].unique())"
   ]
  },
  {
   "cell_type": "raw",
   "id": "072f0087-9d32-4d7f-8e6c-bd86d13d3a48",
   "metadata": {},
   "source": [
    "Distribution of Ethnic Groups"
   ]
  },
  {
   "cell_type": "code",
   "execution_count": 51,
   "id": "4d995d80-26ae-44d2-a98e-471f6ca0b5b1",
   "metadata": {},
   "outputs": [
    {
     "data": {
      "image/png": "[encoded data removed]",
      "text/plain": [
       "<Figure size 640x480 with 1 Axes>"
      ]
     },
     "metadata": {},
     "output_type": "display_data"
    }
   ],
   "source": [
    "groupA=df.loc[(df[\"Ethnic group\"]=='group a')].count()\n",
    "groupB=df.loc[(df[\"Ethnic group\"]=='group b')].count()\n",
    "groupC=df.loc[(df[\"Ethnic group\"]=='group c')].count()\n",
    "mylist=[groupA[\"Ethnic group\"],groupB[\"Ethnic group\"],groupC[\"Ethnic group\"]]\n",
    "li=[\"group a\",\"group b\",\"group c\"]\n",
    "plt.pie(mylist,labels=li,autopct= \"%1.2f%%\")\n",
    "plt.title(\"Distribution of Ethnic Group\")\n",
    "plt.show()"
   ]
  },
  {
   "cell_type": "code",
   "execution_count": 55,
   "id": "955fab53-e68b-4a7f-8f69-e5526fddeb33",
   "metadata": {},
   "outputs": [
    {
     "data": {
      "text/plain": [
       "[Text(0, 0, '1'), Text(0, 0, '2'), Text(0, 0, '1'), Text(0, 0, '1')]"
      ]
     },
     "execution_count": 55,
     "metadata": {},
     "output_type": "execute_result"
    },
    {
     "data": {
      "image/png": "[encoded data removed]",
      "text/plain": [
       "<Figure size 640x480 with 1 Axes>"
      ]
     },
     "metadata": {},
     "output_type": "display_data"
    }
   ],
   "source": [
    "ax=sns.countplot(data=df,x=\"Ethnic group\")\n",
    "ax.bar_label(ax.containers[0])"
   ]
  },
  {
   "cell_type": "code",
   "execution_count": null,
   "id": "bacf65c8-080d-4e91-b3d7-ebdc1bb34be8",
   "metadata": {},
   "outputs": [],
   "source": []
  }
 ],
 "metadata": {
  "kernelspec": {
   "display_name": "Python 3 (ipykernel)",
   "language": "python",
   "name": "python3"
  },
  "language_info": {
   "codemirror_mode": {
    "name": "ipython",
    "version": 3
   },
   "file_extension": ".py",
   "mimetype": "text/x-python",
   "name": "python",
   "nbconvert_exporter": "python",
   "pygments_lexer": "ipython3",
   "version": "3.12.3"
  }
 },
 "nbformat": 4,
 "nbformat_minor": 5
}
